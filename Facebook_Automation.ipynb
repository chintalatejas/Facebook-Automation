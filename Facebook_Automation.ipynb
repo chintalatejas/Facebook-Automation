{
 "cells": [
  {
   "cell_type": "code",
   "execution_count": 1,
   "metadata": {},
   "outputs": [],
   "source": [
    "from selenium import webdriver\n",
    "from selenium.webdriver.support import expected_conditions as ec\n",
    "from selenium.webdriver.support.ui import WebDriverWait\n",
    "from selenium.webdriver.common.keys import Keys\n",
    "from selenium.webdriver.common.by import By\n",
    "\n",
    "import time\n",
    "from time import sleep"
   ]
  },
  {
   "cell_type": "code",
   "execution_count": 29,
   "metadata": {},
   "outputs": [],
   "source": [
    "path=\"C:\\Program Files\\chromedriver.exe\"\n",
    "browser=webdriver.Chrome(path) # creating the object \n",
    "\n",
    "browser.get(\"https://www.facebook.com/\") #Opening the site\n",
    "wait=WebDriverWait(browser,600) # site waits for 600 sec"
   ]
  },
  {
   "cell_type": "markdown",
   "metadata": {},
   "source": [
    "### Login Page"
   ]
  },
  {
   "cell_type": "code",
   "execution_count": 30,
   "metadata": {},
   "outputs": [
    {
     "name": "stdout",
     "output_type": "stream",
     "text": [
      "Enter the email address or phone number: email@gmail.com\n",
      "Enter the password: xxxx\n"
     ]
    }
   ],
   "source": [
    "#Typing the email address or phone number\n",
    "sleep(5)\n",
    "email_phone = browser.find_element_by_id('email')\n",
    "email_address = input(\"Enter the email address or phone number: \")\n",
    "email_phone.send_keys(email_address)\n",
    "\n",
    "#Typing the password for the account\n",
    "pwd = browser.find_element_by_id('pass')\n",
    "password = input(\"Enter the password: \")\n",
    "pwd.send_keys(password)\n",
    "\n",
    "#Clicking the login button\n",
    "sleep(2)\n",
    "log = browser.find_element_by_id('u_0_b')\n",
    "log.click()\n"
   ]
  },
  {
   "cell_type": "markdown",
   "metadata": {},
   "source": [
    "### Enabling/Disabling Dark Mode"
   ]
  },
  {
   "cell_type": "code",
   "execution_count": 6,
   "metadata": {},
   "outputs": [],
   "source": [
    "#Clicking on the drop-down button\n",
    "sleep(3)\n",
    "theme = browser.find_element_by_xpath(\"//div[@aria-label='Account']\")\n",
    "theme.click()\n",
    "\n",
    "#Selecting the dark mode\n",
    "sleep(3)\n",
    "dark = browser.find_element_by_xpath(\"//input[@aria-label='Enabled']\")\n",
    "dark.click()\n",
    "\n",
    "#Unclicking the drop-down button\n",
    "sleep(2)\n",
    "unclick = browser.find_element_by_xpath(\"//div[@aria-label='Account']\")\n",
    "unclick.click()"
   ]
  },
  {
   "cell_type": "markdown",
   "metadata": {},
   "source": [
    "### Posting Story"
   ]
  },
  {
   "cell_type": "code",
   "execution_count": 7,
   "metadata": {},
   "outputs": [],
   "source": [
    "sleep(3)\n",
    "browser.maximize_window() #Maximize the browser window\n",
    "\n",
    "#Create the story\n",
    "sleep(3)\n",
    "story_login = browser.find_element_by_link_text('Create a story').click()\n",
    "sleep(3)\n",
    "\n",
    "#Selecting the Text Story\n",
    "text_story = browser.find_element_by_xpath(\"//div[@class='i1fnvgqd j83agx80']//div[@class='oajrlxb2 gs1a9yip g5ia77u1 mtkw9kbi tlpljxtp qensuy8j ppp5ayq2 goun2846 ccm00jje s44p3ltw mk2mc5f4 rt8b4zig n8ej3o3l agehan2d sk4xxmp2 rq0escxv nhd2j8a9 pq6dq46d mg4g778l btwxx1t3 pfnyh3mw p7hjln8o kvgmc6g5 cxmmr5t8 oygrvhab hcukyx3x tgvbjcpo hpfvmrgz jb3vyjys rz4wbd8a qt6c0cv9 a8nywdso l9j0dhe7 i1ao9s8h esuyzwwr f1sip0of du4w35lb lzcic4wl abiwlrkh p8dawk7l']\")\n",
    "text_story.click()\n",
    "\n",
    "#Adding the text\n",
    "sleep(3)\n",
    "text = browser.find_element_by_tag_name(\"textarea\")\n",
    "sleep(1)\n",
    "text.send_keys(\"This story was created using Selenium\")\n",
    "\n",
    "#Confirming the story\n",
    "sleep(2)\n",
    "send = browser.find_element_by_class_name(\"s1i5eluu\")\n",
    "send.click()"
   ]
  },
  {
   "cell_type": "markdown",
   "metadata": {},
   "source": [
    "### Add a new post"
   ]
  },
  {
   "cell_type": "code",
   "execution_count": 7,
   "metadata": {},
   "outputs": [],
   "source": [
    "#Selecting the create post \n",
    "sleep(3)\n",
    "create = browser.find_element_by_xpath(\"//div[@class='oajrlxb2 b3i9ofy5 qu0x051f esr5mh6w e9989ue4 r7d6kgcz rq0escxv nhd2j8a9 j83agx80 p7hjln8o kvgmc6g5 cxmmr5t8 oygrvhab hcukyx3x cxgpxx05 d1544ag0 sj5x9vvc tw6a2znq i1ao9s8h esuyzwwr f1sip0of lzcic4wl l9j0dhe7 abiwlrkh p8dawk7l bp9cbjyn orhb3f3m czkt41v7 fmqxjp7s emzo65vh btwxx1t3 buofh1pr idiwt2bm jifvfom9 ni8dbmo4 stjgntxs kbf60n1y']\")\n",
    "create.click()\n",
    "sleep(2)\n",
    "\n",
    "#Typing the message\n",
    "text = browser.find_element_by_xpath(\"/html/body/div[1]/div/div/div[1]/div[4]/div/div/div[1]/div/div[2]/div/div/div/form/div/div[1]/div/div[2]/div[2]/div[1]/div[1]/div[1]/div/div/div/div/div[2]/div\")\n",
    "text.send_keys(\"This post was created using Selenium\")\n",
    "\n",
    "#Sending the post\n",
    "sleep(3)\n",
    "browser.find_element_by_class_name('s1i5eluu').click()"
   ]
  },
  {
   "cell_type": "markdown",
   "metadata": {},
   "source": [
    "### Adding Bio for first time"
   ]
  },
  {
   "cell_type": "code",
   "execution_count": 11,
   "metadata": {},
   "outputs": [
    {
     "name": "stdout",
     "output_type": "stream",
     "text": [
      "Enter the bio: zzzz\n"
     ]
    }
   ],
   "source": [
    "#Going to the profile page\n",
    "sleep(3)\n",
    "browser.maximize_window()\n",
    "sleep(3)\n",
    "profile = browser.find_element_by_xpath(\"//a[@class='oajrlxb2 g5ia77u1 qu0x051f esr5mh6w e9989ue4 r7d6kgcz rq0escxv nhd2j8a9 j83agx80 p7hjln8o kvgmc6g5 cxmmr5t8 oygrvhab hcukyx3x jb3vyjys d1544ag0 qt6c0cv9 tw6a2znq i1ao9s8h esuyzwwr f1sip0of lzcic4wl l9j0dhe7 abiwlrkh p8dawk7l bp9cbjyn e72ty7fz qlfml3jp inkptoze qmr60zad btwxx1t3 tv7at329 taijpn5t']\")\n",
    "profile.click()\n",
    "sleep(3)\n",
    "\n",
    "#Clicking the bio button\n",
    "button = browser.find_element_by_css_selector(\"#mount_0_0 > div > div > div.rq0escxv.l9j0dhe7.du4w35lb > div.rq0escxv.l9j0dhe7.du4w35lb > div > div > div.j83agx80.cbu4d94t.d6urw2fd.dp1hu0rb.l9j0dhe7.du4w35lb > div.dp1hu0rb.cbu4d94t.j83agx80 > div > div > div:nth-child(1) > div.rq0escxv.l9j0dhe7.du4w35lb.j83agx80.taijpn5t.gs1a9yip.owycx6da.btwxx1t3.ihqw7lf3.cddn0xzi > div > div > div.rq0escxv.l9j0dhe7.du4w35lb.j83agx80.taijpn5t.gs1a9yip.owycx6da.btwxx1t3.d1544ag0.tw6a2znq.discj3wi.b5q2rw42.lq239pai.mysgfdmx.hddg9phg > div > div > div.j83agx80.cbu4d94t.obtkqiv7.sv5sfqaa > div > span > span > div\")\n",
    "button.click()\n",
    "\n",
    "#Typing the text in the textbox\n",
    "sleep(3)\n",
    "textbox = browser.find_element_by_xpath(\"//textarea[@placeholder='Describe who you are']\")\n",
    "text = input(\"Enter the bio: \")\n",
    "textbox.clear\n",
    "if len(text)<=101:\n",
    "    textbox.send_keys(text)\n",
    "else:\n",
    "    textbox.quit()\n",
    "\n",
    "#Saving the bio    \n",
    "sleep(2)\n",
    "send = browser.find_element_by_xpath(\"//div[@aria-label='Save']\")\n",
    "send.click()\n"
   ]
  },
  {
   "cell_type": "markdown",
   "metadata": {},
   "source": [
    "### Sending a message via Messenger"
   ]
  },
  {
   "cell_type": "code",
   "execution_count": 14,
   "metadata": {},
   "outputs": [
    {
     "name": "stdout",
     "output_type": "stream",
     "text": [
      "Enter the name: Tejas Chintala\n"
     ]
    }
   ],
   "source": [
    "#Clicking on the Messenger icon\n",
    "sleep(3)\n",
    "msg_icon = browser.find_element_by_xpath(\"//div[@aria-label='Messenger']\")\n",
    "msg_icon.click()\n",
    "\n",
    "#Searching for the person\n",
    "sleep(3)\n",
    "search = browser.find_element_by_xpath(\"//input[@placeholder='Search Messenger']\")\n",
    "search.click()\n",
    "\n",
    "#Enter the person name\n",
    "name = input(\"Enter the name: \")\n",
    "search_bar = browser.find_element_by_xpath(\"//input[@placeholder='Search Messenger']\")\n",
    "search_bar.send_keys(name)\n",
    "\n",
    "#Opening the chatbox\n",
    "sleep(3)\n",
    "tab = browser.find_element_by_xpath(\"//div[@class='j83agx80 oo9gr5id buofh1pr ni8dbmo4 stjgntxs cxgpxx05 dflh9lhu sj5x9vvc scb9dxdr']\")\n",
    "tab.click()\n",
    "sleep(2)\n",
    "\n",
    "#Sending the message\n",
    "message = browser.find_element_by_xpath(\"//div[@class='notranslate _5rpu']\")\n",
    "message.send_keys(\"This message was sent using Selenium\")\n",
    "sleep(3)\n",
    "browser.find_element_by_xpath(\"//div[@aria-label='Press Enter to send']\").click()\n",
    "\n",
    "#Closing the Chatbox\n",
    "sleep(3)\n",
    "browser.find_element_by_xpath(\"//div[@aria-label='Close tab']\").click()"
   ]
  },
  {
   "cell_type": "markdown",
   "metadata": {},
   "source": [
    "### Logout of the account"
   ]
  },
  {
   "cell_type": "code",
   "execution_count": 28,
   "metadata": {},
   "outputs": [],
   "source": [
    "sleep(3)\n",
    "browser.find_element_by_xpath(\"//div[@aria-label='Account']\").click()\n",
    "sleep(2)\n",
    "log_out = browser.find_element_by_xpath(\"//div[@class='knvmm38d']//div[5]//div[1]//div[1]//div[2]\")\n",
    "log_out.click()\n",
    "\n",
    "#Closing the browser\n",
    "sleep(3)\n",
    "browser.quit()"
   ]
  }
 ],
 "metadata": {
  "kernelspec": {
   "display_name": "Python 3",
   "language": "python",
   "name": "python3"
  },
  "language_info": {
   "codemirror_mode": {
    "name": "ipython",
    "version": 3
   },
   "file_extension": ".py",
   "mimetype": "text/x-python",
   "name": "python",
   "nbconvert_exporter": "python",
   "pygments_lexer": "ipython3",
   "version": "3.6.4"
  }
 },
 "nbformat": 4,
 "nbformat_minor": 2
}

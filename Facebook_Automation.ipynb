{
 "cells": [
  {
   "cell_type": "code",
   "execution_count": 4,
   "metadata": {},
   "outputs": [],
   "source": [
    "from selenium import webdriver\n",
    "from selenium.webdriver.support import expected_conditions as ec\n",
    "from selenium.webdriver.support.ui import WebDriverWait\n",
    "from selenium.webdriver.common.keys import Keys\n",
    "from selenium.webdriver.common.by import By\n",
    "\n",
    "import time\n",
    "from time import sleep"
   ]
  },
  {
   "cell_type": "code",
   "execution_count": 17,
   "metadata": {},
   "outputs": [],
   "source": [
    "path=\"C:\\Program Files\\chromedriver.exe\"\n",
    "browser=webdriver.Chrome(path) # creating the object \n",
    "\n",
    "browser.get(\"https://www.facebook.com/\") #Opening the site\n",
    "wait=WebDriverWait(browser,600) # site waits for 600 sec"
   ]
  },
  {
   "cell_type": "markdown",
   "metadata": {},
   "source": [
    "### Login Page"
   ]
  },
  {
   "cell_type": "code",
   "execution_count": 6,
   "metadata": {},
   "outputs": [
    {
     "name": "stdout",
     "output_type": "stream",
     "text": [
      "Enter the email address or phone number: xxxx\n",
      "Enter the password: xxxx\n"
     ]
    }
   ],
   "source": [
    "#Typing the email address or phone number\n",
    "sleep(5)\n",
    "email_phone = browser.find_element_by_id('email')\n",
    "email_address = input(\"Enter the email address or phone number: \")\n",
    "email_phone.send_keys(email_address)\n",
    "\n",
    "#Typing the password for the account\n",
    "pwd = browser.find_element_by_id('pass')\n",
    "password = input(\"Enter the password: \")\n",
    "pwd.send_keys(password)\n",
    "\n",
    "#Clicking the login button\n",
    "sleep(2)\n",
    "log = browser.find_element_by_id('u_0_b')\n",
    "log.click()\n"
   ]
  },
  {
   "cell_type": "markdown",
   "metadata": {},
   "source": [
    "### Enabling/Disabling Dark Mode"
   ]
  },
  {
   "cell_type": "code",
   "execution_count": 18,
   "metadata": {},
   "outputs": [],
   "source": [
    "#Clicking on the drop-down button\n",
    "sleep(3)\n",
    "theme = browser.find_element_by_xpath(\"/html/body/div[1]/div/div/div[1]/div[2]/div[4]/div[1]/span/div/div[1]\")\n",
    "theme.click()\n",
    "\n",
    "#Selecting the dark mode\n",
    "sleep(3)\n",
    "dark = browser.find_element_by_xpath(\"/html/body/div[1]/div/div/div[1]/div[2]/div[4]/div[2]/div/div/div[1]/div[1]/div/div/div/div/div/div/div/div[1]/div/div[3]/div/div[3]/div/div[1]/div[2]/div[2]/div/div/div/input\")\n",
    "dark.click()\n",
    "\n",
    "#Unclicking the drop-down button\n",
    "sleep(2)\n",
    "unclick = browser.find_element_by_xpath(\"/html/body/div[1]/div/div/div[1]/div[2]/div[4]/div[1]/span/div/div[1]\")\n",
    "unclick.click()"
   ]
  },
  {
   "cell_type": "markdown",
   "metadata": {},
   "source": [
    "### Posting Story"
   ]
  },
  {
   "cell_type": "code",
   "execution_count": 20,
   "metadata": {},
   "outputs": [],
   "source": [
    "sleep(3)\n",
    "browser.maximize_window()\n",
    "sleep(3)\n",
    "story_login = browser.find_element_by_xpath(\"/html/body/div[1]/div/div/div[1]/div[3]/div/div/div[1]/div[1]/div/div[2]/div/div/div[2]/div/div/div[1]/div/div[1]/div/a/div/div/div/div[2]\")\n",
    "story_login.click()\n",
    "sleep(3)\n",
    "\n",
    "#Selecting the Text Story\n",
    "text_story = browser.find_element_by_xpath(\"/html/body/div[1]/div/div/div[1]/div[4]/div/div/div[1]/div/div[3]/div[2]/div[2]/div/div/div/div/div[2]\")\n",
    "text_story.click()\n",
    "#Adding the text\n",
    "sleep(3)\n",
    "decription = browser.find_element_by_xpath(\"/html/body/div[1]/div/div/div[1]/div[4]/div/div/div[1]/div/div[3]/div[2]/div[1]/div/div[3]/div[1]/div[2]/div/div[3]/div/div[1]/div/label/div/div/textarea\")\n",
    "decription.click()\n",
    "text = browser.find_element_by_tag_name(\"textarea\")\n",
    "sleep(1)\n",
    "text.send_keys(\"This story was created using Selenium\")\n",
    "#Confirming the story\n",
    "sleep(2)\n",
    "send = browser.find_element_by_class_name(\"s1i5eluu\")\n",
    "send.click()\n"
   ]
  },
  {
   "cell_type": "markdown",
   "metadata": {},
   "source": [
    "### Add a new post"
   ]
  },
  {
   "cell_type": "code",
   "execution_count": 21,
   "metadata": {},
   "outputs": [],
   "source": [
    "#Selecting the create post \n",
    "sleep(3)\n",
    "create = browser.find_element_by_css_selector(\"#mount_0_0 > div > div > div.rq0escxv.l9j0dhe7.du4w35lb > div.rq0escxv.l9j0dhe7.du4w35lb > div > div > div.j83agx80.cbu4d94t.d6urw2fd.dp1hu0rb.l9j0dhe7.du4w35lb > div.rq0escxv.l9j0dhe7.du4w35lb.j83agx80.taijpn5t.gs1a9yip.owycx6da.btwxx1t3.dp1hu0rb.j6ylrsjq > div > div.rq0escxv.l9j0dhe7.du4w35lb.j83agx80.pmt1y7k9.buofh1pr.g5gj957u.hpfvmrgz.taijpn5t.gs1a9yip.owycx6da.btwxx1t3.f7vcsfb0.fjf4s8hc > div > div > div:nth-child(3) > div > div:nth-child(3) > div > div > div > div.k4urcfbm.g5gj957u.buofh1pr.j83agx80.ll8tlv6m > div\")\n",
    "create.click()\n",
    "sleep(2)\n",
    "\n",
    "#Typing the message\n",
    "text = browser.find_element_by_xpath(\"/html/body/div[1]/div/div/div[1]/div[4]/div/div/div[1]/div/div[2]/div/div/div/form/div/div[1]/div/div[2]/div[2]/div[1]/div[1]/div[1]/div/div/div/div/div[2]/div\")\n",
    "text.send_keys(\"This post was created using Selenium\")\n",
    "\n",
    "#Sending the post\n",
    "sleep(3)\n",
    "send = browser.find_element_by_class_name('s1i5eluu')\n",
    "send.click()"
   ]
  },
  {
   "cell_type": "markdown",
   "metadata": {},
   "source": [
    "### Adding Bio for first time"
   ]
  },
  {
   "cell_type": "code",
   "execution_count": 22,
   "metadata": {},
   "outputs": [
    {
     "name": "stdout",
     "output_type": "stream",
     "text": [
      "Enter the bio: xxxx\n"
     ]
    }
   ],
   "source": [
    "#Going to the profile page\n",
    "sleep(3)\n",
    "browser.maximize_window()\n",
    "sleep(3)\n",
    "browser.maximize_window()\n",
    "profile = browser.find_element_by_link_text(\"Tejas\")\n",
    "profile.click()\n",
    "sleep(3)\n",
    "\n",
    "#Clicking the bio button\n",
    "button = browser.find_element_by_css_selector(\"#mount_0_0 > div > div > div.rq0escxv.l9j0dhe7.du4w35lb > div.rq0escxv.l9j0dhe7.du4w35lb > div > div > div.j83agx80.cbu4d94t.d6urw2fd.dp1hu0rb.l9j0dhe7.du4w35lb > div.dp1hu0rb.cbu4d94t.j83agx80 > div > div > div:nth-child(1) > div.rq0escxv.l9j0dhe7.du4w35lb.j83agx80.taijpn5t.gs1a9yip.owycx6da.btwxx1t3.ihqw7lf3.cddn0xzi > div > div > div.rq0escxv.l9j0dhe7.du4w35lb.j83agx80.taijpn5t.gs1a9yip.owycx6da.btwxx1t3.d1544ag0.tw6a2znq.discj3wi.b5q2rw42.lq239pai.mysgfdmx.hddg9phg > div > div > div.j83agx80.cbu4d94t.obtkqiv7.sv5sfqaa > div > span > span > div\")\n",
    "button.click()\n",
    "\n",
    "#Typing the text in the textbox\n",
    "sleep(3)\n",
    "textbox = browser.find_element_by_css_selector(\"#mount_0_0 > div > div > div.rq0escxv.l9j0dhe7.du4w35lb > div.rq0escxv.l9j0dhe7.du4w35lb > div > div > div.j83agx80.cbu4d94t.d6urw2fd.dp1hu0rb.l9j0dhe7.du4w35lb > div.dp1hu0rb.cbu4d94t.j83agx80 > div > div > div:nth-child(1) > div.rq0escxv.l9j0dhe7.du4w35lb.j83agx80.taijpn5t.gs1a9yip.owycx6da.btwxx1t3.ihqw7lf3.cddn0xzi > div > div > div.rq0escxv.l9j0dhe7.du4w35lb.j83agx80.taijpn5t.gs1a9yip.owycx6da.btwxx1t3.d1544ag0.tw6a2znq.discj3wi.b5q2rw42.lq239pai.mysgfdmx.hddg9phg > div > div > div.j83agx80.cbu4d94t.obtkqiv7.sv5sfqaa > div > span > div > div > label > textarea\")\n",
    "text = input(\"Enter the bio: \")\n",
    "textbox.clear\n",
    "if len(text)<=101:\n",
    "    textbox.send_keys(text)\n",
    "else:\n",
    "    textbox.quit()\n",
    "\n",
    "#Saving the bio    \n",
    "sleep(2)\n",
    "send = browser.find_element_by_css_selector(\"#mount_0_0 > div > div > div.rq0escxv.l9j0dhe7.du4w35lb > div.rq0escxv.l9j0dhe7.du4w35lb > div > div > div.j83agx80.cbu4d94t.d6urw2fd.dp1hu0rb.l9j0dhe7.du4w35lb > div.dp1hu0rb.cbu4d94t.j83agx80 > div > div > div:nth-child(1) > div.rq0escxv.l9j0dhe7.du4w35lb.j83agx80.taijpn5t.gs1a9yip.owycx6da.btwxx1t3.ihqw7lf3.cddn0xzi > div > div > div.rq0escxv.l9j0dhe7.du4w35lb.j83agx80.taijpn5t.gs1a9yip.owycx6da.btwxx1t3.d1544ag0.tw6a2znq.discj3wi.b5q2rw42.lq239pai.mysgfdmx.hddg9phg > div > div > div.j83agx80.cbu4d94t.obtkqiv7.sv5sfqaa > div > span > div > div > div.aahdfvyu.i1fnvgqd.j83agx80.bp9cbjyn > div:nth-child(2) > div.oajrlxb2.s1i5eluu.gcieejh5.bn081pho.humdl8nn.izx4hr6d.rq0escxv.nhd2j8a9.j83agx80.p7hjln8o.kvgmc6g5.cxmmr5t8.oygrvhab.hcukyx3x.jb3vyjys.d1544ag0.qt6c0cv9.tw6a2znq.i1ao9s8h.esuyzwwr.f1sip0of.lzcic4wl.l9j0dhe7.abiwlrkh.p8dawk7l.beltcj47.p86d2i9g.aot14ch1.kzx2olss.cbu4d94t.taijpn5t.ni8dbmo4.stjgntxs.k4urcfbm.tv7at329\")\n",
    "send.click()\n"
   ]
  },
  {
   "cell_type": "markdown",
   "metadata": {},
   "source": [
    "### Sending a message to Messenger"
   ]
  },
  {
   "cell_type": "code",
   "execution_count": 23,
   "metadata": {},
   "outputs": [
    {
     "name": "stdout",
     "output_type": "stream",
     "text": [
      "Enter the name: Tejas Chintala\n"
     ]
    }
   ],
   "source": [
    "#Clicking on the Messenger icon\n",
    "sleep(3)\n",
    "msg_icon = browser.find_element_by_xpath(\"/html/body/div[1]/div/div/div[1]/div[2]/div[4]/div[1]/div[2]/span/div/div[1]\")\n",
    "msg_icon.click()\n",
    "\n",
    "#Searching for the person\n",
    "sleep(3)\n",
    "search = browser.find_element_by_xpath(\"/html/body/div[1]/div/div/div[1]/div[2]/div[4]/div[2]/div/div/div[1]/div[1]/div/div/div/div/div/div/div[1]/div/div[1]/div[1]/div[2]/div[1]/div/div/div/label/input\")\n",
    "search.click()\n",
    "\n",
    "#Enter the person name\n",
    "name = input(\"Enter the name: \")\n",
    "search_bar = browser.find_element_by_xpath(\"/html/body/div[1]/div/div/div[1]/div[2]/div[4]/div[2]/div/div/div[1]/div[1]/div/div/div/div/div/div/div[1]/div/div[1]/div[1]/div[2]/div[1]/div/div/div[2]/label/input\")\n",
    "search_bar.send_keys(name)\n",
    "\n",
    "#Opening the chatbox\n",
    "sleep(3)\n",
    "tab = browser.find_element_by_xpath(\"/html/body/div[1]/div/div/div[1]/div[2]/div[4]/div[2]/div/div/div[1]/div[2]/div/div/div[1]/div[1]/div/div/div[1]/ul/div[1]/li/div/div[1]/div/div[2]/span\")\n",
    "tab.click()\n",
    "sleep(2)\n",
    "\n",
    "#Sending the message\n",
    "message = browser.find_element_by_xpath(\"/html/body/div[1]/div/div/div[1]/div[5]/div[1]/div[1]/div[1]/div/div/div/div/div/div/div[2]/div/div[2]/form/div/div[3]/div[2]/div[1]/div/div/div/div/div[2]/div/div/div/div\")\n",
    "message.send_keys(\"This message was sent using Selenium\")\n",
    "sleep(3)\n",
    "send = browser.find_element_by_xpath(\"/html/body/div[1]/div/div/div[1]/div[5]/div[1]/div[1]/div[1]/div/div/div/div/div/div/div[2]/div/div[2]/form/div/div[3]/span[2]/div\")\n",
    "send.click()"
   ]
  },
  {
   "cell_type": "markdown",
   "metadata": {},
   "source": [
    "### Logout of the account"
   ]
  },
  {
   "cell_type": "code",
   "execution_count": 24,
   "metadata": {},
   "outputs": [],
   "source": [
    "sleep(3)\n",
    "drop = browser.find_element_by_css_selector(\"#mount_0_0 > div > div > div.rq0escxv.l9j0dhe7.du4w35lb > div:nth-child(2) > div.n7fi1qx3.hv4rvrfc.b3onmgus.poy2od1o.kr520xx4.ehxjyohh > div.bp9cbjyn.j83agx80.rl25f0pe.byvelhso.l9j0dhe7.du4w35lb > span > div > div.oajrlxb2.tdjehn4e.qu0x051f.esr5mh6w.e9989ue4.r7d6kgcz.rq0escxv.nhd2j8a9.j83agx80.p7hjln8o.kvgmc6g5.cxmmr5t8.oygrvhab.hcukyx3x.jb3vyjys.rz4wbd8a.qt6c0cv9.a8nywdso.i1ao9s8h.esuyzwwr.f1sip0of.lzcic4wl.l9j0dhe7.abiwlrkh.p8dawk7l.bp9cbjyn.s45kfl79.emlxlaya.bkmhp75w.spb7xbtv.rt8b4zig.n8ej3o3l.agehan2d.sk4xxmp2.taijpn5t.qypqp5cg.q676j6op\")\n",
    "drop.click()\n",
    "sleep(2)\n",
    "log_out = browser.find_element_by_xpath(\"/html/body/div[1]/div/div/div[1]/div[2]/div[4]/div[2]/div/div/div[1]/div[1]/div/div/div/div/div/div/div/div[1]/div/div[3]/div/div[5]/div\")\n",
    "log_out.click()"
   ]
  }
 ],
 "metadata": {
  "kernelspec": {
   "display_name": "Python 3",
   "language": "python",
   "name": "python3"
  },
  "language_info": {
   "codemirror_mode": {
    "name": "ipython",
    "version": 3
   },
   "file_extension": ".py",
   "mimetype": "text/x-python",
   "name": "python",
   "nbconvert_exporter": "python",
   "pygments_lexer": "ipython3",
   "version": "3.6.4"
  }
 },
 "nbformat": 4,
 "nbformat_minor": 2
}
